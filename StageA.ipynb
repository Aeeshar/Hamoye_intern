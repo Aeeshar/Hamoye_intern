{
  "nbformat": 4,
  "nbformat_minor": 0,
  "metadata": {
    "colab": {
      "name": "StageA.ipynb",
      "provenance": [],
      "collapsed_sections": []
    },
    "kernelspec": {
      "name": "python3",
      "display_name": "Python 3"
    },
    "language_info": {
      "name": "python"
    }
  },
  "cells": [
    {
      "cell_type": "code",
      "execution_count": 12,
      "metadata": {
        "colab": {
          "base_uri": "https://localhost:8080/"
        },
        "id": "Ug0LhFPfIG5g",
        "outputId": "8741f350-f7c4-4042-d266-880cb6866b05"
      },
      "outputs": [
        {
          "output_type": "stream",
          "name": "stdout",
          "text": [
            "49\n"
          ]
        },
        {
          "output_type": "stream",
          "name": "stderr",
          "text": [
            "/usr/local/lib/python3.7/dist-packages/ipykernel_launcher.py:14: FutureWarning: Indexing with multiple keys (implicitly converted to a tuple of keys) will be deprecated, use a list instead.\n",
            "  \n"
          ]
        }
      ],
      "source": [
        "import pandas as pd\n",
        "url = 'https://github.com/HamoyeHQ/HDSC-Introduction-to-Python-for-machine-learning/files/7768140/FoodBalanceSheets_E_Africa_NOFLAG.csv'\n",
        "df = pd.read_csv(url, encoding='latin-1')\n",
        "\n",
        "yr_2014 = df.groupby('Item')['Y2014'].sum()\n",
        "\n",
        "yr_2017 = df.groupby('Item')['Y2017'].sum()\n",
        "\n",
        "mean1 = round(df['Y2015'].mean(), 3)\n",
        "std1 = round(df['Y2015'].std(), 3)\n",
        "\n",
        "missd = round(df['Y2016'].isnull().sum(),2)\n",
        "corr1 = df.corr()\n",
        "multi_group = df.groupby('Element')['Y2014','Y2015','Y2016','Y2017','Y2018'].sum()\n",
        "Product1 = df.groupby('Element')['Y2014'].sum()\n",
        "yr_2018 = df.groupby('Element')['Y2018'].sum()\n",
        "Countries_unique = df.Area.nunique()\n",
        "print(Countries_unique)\n",
        "\n",
        "\n",
        "\n",
        "\n",
        "\n",
        "\n",
        "\n",
        "\n",
        "\n"
      ]
    }
  ]
}